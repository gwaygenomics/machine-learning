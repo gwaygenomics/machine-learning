{
 "cells": [
  {
   "cell_type": "code",
   "execution_count": 129,
   "metadata": {
    "collapsed": true
   },
   "outputs": [],
   "source": [
    "%matplotlib inline"
   ]
  },
  {
   "cell_type": "code",
   "execution_count": 2,
   "metadata": {
    "collapsed": false
   },
   "outputs": [],
   "source": [
    "import os\n",
    "import urllib\n",
    "import pandas as pd\n",
    "import random\n",
    "from statsmodels.robust import scale\n",
    "from sklearn.linear_model import SGDClassifier\n",
    "from sklearn.cross_validation import StratifiedKFold, train_test_split\n",
    "from sklearn.metrics import roc_auc_score, roc_curve\n",
    "import seaborn as sns"
   ]
  },
  {
   "cell_type": "code",
   "execution_count": 259,
   "metadata": {
    "collapsed": true
   },
   "outputs": [],
   "source": [
    "random.seed(123)"
   ]
  },
  {
   "cell_type": "code",
   "execution_count": 248,
   "metadata": {
    "collapsed": true
   },
   "outputs": [],
   "source": [
    "# We're going to be building a 'TP53' logistic regression classifier with\n",
    "# an elastic net penalty\n",
    "GENE = 'TP53'\n",
    "CLASSIFIER = 'log'\n",
    "PENALTY = 'elasticnet'"
   ]
  },
  {
   "cell_type": "code",
   "execution_count": 231,
   "metadata": {
    "collapsed": true
   },
   "outputs": [],
   "source": [
    "# Parameter Sweep for Hyperparameters\n",
    "alpha_params = [0.05, 0.1, 0.2, 0.3]\n",
    "l1_params = [0.05, 0.1, 0.2, 0.3]"
   ]
  },
  {
   "cell_type": "markdown",
   "metadata": {},
   "source": [
    "*Here is some [documentation](http://scikit-learn.org/stable/modules/generated/sklearn.linear_model.SGDClassifier.html) regarding the classifier and hyperparameters*\n",
    "\n",
    "*Here is some [information](https://ghr.nlm.nih.gov/gene/TP53) about TP53*"
   ]
  },
  {
   "cell_type": "markdown",
   "metadata": {},
   "source": [
    "# Load Data"
   ]
  },
  {
   "cell_type": "code",
   "execution_count": 3,
   "metadata": {
    "collapsed": false
   },
   "outputs": [],
   "source": [
    "if not os.path.exists('data'):\n",
    "    os.makedirs('data')"
   ]
  },
  {
   "cell_type": "code",
   "execution_count": 5,
   "metadata": {
    "collapsed": false
   },
   "outputs": [],
   "source": [
    "# Download X Matrix\n",
    "url = 'https://ndownloader.figshare.com/files/5514386'\n",
    "if not os.path.exists('data/expression.tsv.bz2'):\n",
    "    urllib.request.urlretrieve(url, os.path.join('data', 'expression.tsv.bz2'))"
   ]
  },
  {
   "cell_type": "code",
   "execution_count": 230,
   "metadata": {
    "collapsed": false
   },
   "outputs": [],
   "source": [
    "X = pd.read_table(os.path.join('data', 'expression.tsv.bz2'), index_col=0)"
   ]
  },
  {
   "cell_type": "code",
   "execution_count": 7,
   "metadata": {
    "collapsed": false
   },
   "outputs": [],
   "source": [
    "# Download Y Matrix\n",
    "url = \"https://ndownloader.figshare.com/files/5514389\"\n",
    "if not os.path.exists('data/mutation-matrix.tsv.bz2'):\n",
    "    urllib.request.urlretrieve(url, os.path.join('data', 'mutation-matrix.tsv.bz2'))"
   ]
  },
  {
   "cell_type": "code",
   "execution_count": 220,
   "metadata": {
    "collapsed": false
   },
   "outputs": [],
   "source": [
    "Y = pd.read_table(os.path.join('data', 'mutation-matrix.tsv.bz2'), index_col=0)"
   ]
  },
  {
   "cell_type": "markdown",
   "metadata": {},
   "source": [
    "# Process Mutation Matrix"
   ]
  },
  {
   "cell_type": "code",
   "execution_count": 223,
   "metadata": {
    "collapsed": false
   },
   "outputs": [],
   "source": [
    "Y_p53 = pd.Series(Y['TP53'], index=Y.index)"
   ]
  },
  {
   "cell_type": "code",
   "execution_count": 227,
   "metadata": {
    "collapsed": false
   },
   "outputs": [
    {
     "data": {
      "text/plain": [
       "sample_id\n",
       "TCGA-02-0047-01    0\n",
       "TCGA-02-0055-01    1\n",
       "TCGA-02-2483-01    1\n",
       "TCGA-02-2485-01    1\n",
       "TCGA-02-2486-01    0\n",
       "TCGA-04-1348-01    1\n",
       "Name: TP53, dtype: int64"
      ]
     },
     "execution_count": 227,
     "metadata": {},
     "output_type": "execute_result"
    }
   ],
   "source": [
    "# The Series now holds TP53 Mutation Status for each Sample\n",
    "Y_p53.head(6)"
   ]
  },
  {
   "cell_type": "code",
   "execution_count": 226,
   "metadata": {
    "collapsed": false
   },
   "outputs": [
    {
     "data": {
      "text/plain": [
       "0    0.655334\n",
       "1    0.344666\n",
       "Name: TP53, dtype: float64"
      ]
     },
     "execution_count": 226,
     "metadata": {},
     "output_type": "execute_result"
    }
   ],
   "source": [
    "Y_p53.value_counts(True)"
   ]
  },
  {
   "cell_type": "markdown",
   "metadata": {},
   "source": [
    "# Process X Matrix"
   ]
  },
  {
   "cell_type": "code",
   "execution_count": 234,
   "metadata": {
    "collapsed": false
   },
   "outputs": [],
   "source": [
    "# Subset X matrix to only 5,000 highest MAD (median absolute deviation) genes\n",
    "all_mad_genes = scale.mad(X, c=1, axis=0)\n",
    "all_mad_genes = pd.Series(all_mad_genes,\n",
    "                          index=X.columns.values)\n",
    "all_mad_genes = all_mad_genes.sort_values(ascending=False)"
   ]
  },
  {
   "cell_type": "code",
   "execution_count": 260,
   "metadata": {
    "collapsed": false
   },
   "outputs": [],
   "source": [
    "X_sub = X[all_mad_genes.index[:5000]]"
   ]
  },
  {
   "cell_type": "code",
   "execution_count": 238,
   "metadata": {
    "collapsed": false
   },
   "outputs": [],
   "source": [
    "# Normalize X matrix by Z-scoring genes\n",
    "X_matrix_scale = preprocessing.scale(X_sub)\n",
    "X_matrix_sub = pd.DataFrame(X_matrix_scale, index=X_sub.index, columns=X_sub.columns)"
   ]
  },
  {
   "cell_type": "markdown",
   "metadata": {},
   "source": [
    "# Hold Out 10% of the data"
   ]
  },
  {
   "cell_type": "code",
   "execution_count": 245,
   "metadata": {
    "collapsed": true
   },
   "outputs": [],
   "source": [
    "X_matrix, X_holdout, Y_matrix, Y_holdout = train_test_split(\n",
    "    X_matrix_sub, Y_p53, test_size=0.1, random_state=123)"
   ]
  },
  {
   "cell_type": "markdown",
   "metadata": {},
   "source": [
    "# Cross Validation to select Hyperparameters"
   ]
  },
  {
   "cell_type": "code",
   "execution_count": 261,
   "metadata": {
    "collapsed": false
   },
   "outputs": [],
   "source": [
    "# 5 fold cross validation ensuring balanced status membership\n",
    "cv_accuracy = []\n",
    "skf = StratifiedKFold(Y_matrix, 5, random_state=123)\n",
    "for train_idx, test_idx in skf:\n",
    "    X_train, X_test = X_matrix.ix[train_idx], X_matrix.ix[test_idx]\n",
    "    Y_train, Y_test = Y_matrix.ix[train_idx], Y_matrix.ix[test_idx]\n",
    "    for alpha_param in alpha_params:\n",
    "        for l1_param in l1_params:\n",
    "            \n",
    "            # Initialize logistic regression classifier\n",
    "            clf = SGDClassifier(loss=CLASSIFIER,\n",
    "                    penalty=PENALTY,\n",
    "                    alpha=alpha_param,\n",
    "                    l1_ratio=l1_param,\n",
    "                    class_weight='balanced',\n",
    "                    random_state=123)\n",
    "            \n",
    "            # Fit the model\n",
    "            clf.fit(X_train, Y_train)\n",
    "            predict_y_train = clf.predict(X_train)\n",
    "            predict_y_test = clf.predict(X_test)\n",
    "            \n",
    "            # Get the train/test AUROC balanced by class\n",
    "            train_error = roc_auc_score(Y_train, predict_y_train, average='weighted')\n",
    "            test_error = roc_auc_score(Y_test, predict_y_test, average='weighted')\n",
    "            \n",
    "            # Obtain metrics for plotting\n",
    "            cv_accuracy.append(['train', train_error, alpha_param, l1_param])\n",
    "            cv_accuracy.append(['test', test_error, alpha_param, l1_param])"
   ]
  },
  {
   "cell_type": "markdown",
   "metadata": {},
   "source": [
    "# Plot Performance to Select Hyperparameters"
   ]
  },
  {
   "cell_type": "code",
   "execution_count": 262,
   "metadata": {
    "collapsed": false
   },
   "outputs": [],
   "source": [
    "plot_ready = pd.DataFrame(cv_accuracy, columns=['type', 'AUROC', 'alpha', 'l1'])"
   ]
  },
  {
   "cell_type": "code",
   "execution_count": 263,
   "metadata": {
    "collapsed": false
   },
   "outputs": [
    {
     "data": {
      "text/html": [
       "<div>\n",
       "<table border=\"1\" class=\"dataframe\">\n",
       "  <thead>\n",
       "    <tr style=\"text-align: right;\">\n",
       "      <th></th>\n",
       "      <th>type</th>\n",
       "      <th>AUROC</th>\n",
       "      <th>alpha</th>\n",
       "      <th>l1</th>\n",
       "    </tr>\n",
       "  </thead>\n",
       "  <tbody>\n",
       "    <tr>\n",
       "      <th>0</th>\n",
       "      <td>train</td>\n",
       "      <td>0.903032</td>\n",
       "      <td>0.05</td>\n",
       "      <td>0.05</td>\n",
       "    </tr>\n",
       "    <tr>\n",
       "      <th>1</th>\n",
       "      <td>test</td>\n",
       "      <td>0.860971</td>\n",
       "      <td>0.05</td>\n",
       "      <td>0.05</td>\n",
       "    </tr>\n",
       "    <tr>\n",
       "      <th>2</th>\n",
       "      <td>train</td>\n",
       "      <td>0.888364</td>\n",
       "      <td>0.05</td>\n",
       "      <td>0.10</td>\n",
       "    </tr>\n",
       "    <tr>\n",
       "      <th>3</th>\n",
       "      <td>test</td>\n",
       "      <td>0.858065</td>\n",
       "      <td>0.05</td>\n",
       "      <td>0.10</td>\n",
       "    </tr>\n",
       "    <tr>\n",
       "      <th>4</th>\n",
       "      <td>train</td>\n",
       "      <td>0.874179</td>\n",
       "      <td>0.05</td>\n",
       "      <td>0.20</td>\n",
       "    </tr>\n",
       "  </tbody>\n",
       "</table>\n",
       "</div>"
      ],
      "text/plain": [
       "    type     AUROC  alpha    l1\n",
       "0  train  0.903032   0.05  0.05\n",
       "1   test  0.860971   0.05  0.05\n",
       "2  train  0.888364   0.05  0.10\n",
       "3   test  0.858065   0.05  0.10\n",
       "4  train  0.874179   0.05  0.20"
      ]
     },
     "execution_count": 263,
     "metadata": {},
     "output_type": "execute_result"
    }
   ],
   "source": [
    "plot_ready.head(5)"
   ]
  },
  {
   "cell_type": "code",
   "execution_count": 264,
   "metadata": {
    "collapsed": false
   },
   "outputs": [
    {
     "data": {
      "image/png": "[encoded data removed]",
      "text/plain": [
       "<matplotlib.figure.Figure at 0x7fcc7aaf0630>"
      ]
     },
     "metadata": {},
     "output_type": "display_data"
    }
   ],
   "source": [
    "sns.factorplot(x=\"type\", y=\"AUROC\", hue=\"alpha\",\n",
    "               col=\"l1\", data=plot_ready, kind=\"box\", size=4, aspect=0.6);"
   ]
  },
  {
   "cell_type": "markdown",
   "metadata": {},
   "source": [
    "# Use Optimal Hyperparameters to Output ROC Curve"
   ]
  },
  {
   "cell_type": "code",
   "execution_count": 265,
   "metadata": {
    "collapsed": false
   },
   "outputs": [],
   "source": [
    "# Select optimal hyperparameters based on performance in test-set\n",
    "optimal_alpha = 0.05\n",
    "optimal_l1 = 0.1\n",
    "\n",
    "# Initialize optimal classifier\n",
    "clf = SGDClassifier(loss=CLASSIFIER,\n",
    "                    penalty=PENALTY,\n",
    "                    alpha=optimal_alpha,\n",
    "                    l1_ratio=optimal_l1,\n",
    "                    class_weight='balanced',\n",
    "                    random_state=1234)\n",
    "\n",
    "# Fit the classifier using the training data and predict the hold out set\n",
    "clf.fit(X_sub, Y_p53)\n",
    "y_score = clf.decision_function(X_sub)\n",
    "y_score_hold = clf.decision_function(X_holdout)\n",
    "\n",
    "# Get True/False Positive Rates\n",
    "fpr, tpr, _ = roc_curve(Y_p53, y_score)\n",
    "fpr_hold, tpr_hold, _ = roc_curve(Y_holdout, y_score_hold)\n",
    "\n",
    "# Get AUROC\n",
    "train_error = roc_auc_score(Y_p53, y_score, average='weighted')\n",
    "holdout_error = roc_auc_score(Y_holdout, y_score_hold, average='weighted')"
   ]
  },
  {
   "cell_type": "code",
   "execution_count": 266,
   "metadata": {
    "collapsed": false
   },
   "outputs": [
    {
     "data": {
      "text/plain": [
       "<matplotlib.legend.Legend at 0x7fccf9ed7f28>"
      ]
     },
     "execution_count": 266,
     "metadata": {},
     "output_type": "execute_result"
    },
    {
     "data": {
      "image/png": "[encoded data removed]",
      "text/plain": [
       "<matplotlib.figure.Figure at 0x7fccfe3d8c88>"
      ]
     },
     "metadata": {},
     "output_type": "display_data"
    }
   ],
   "source": [
    "# Plot ROC\n",
    "plt.figure()\n",
    "plt.plot(fpr, tpr, label='Training ROC curve (weighted AUROC = {0:0.2f})'.format(train_error))\n",
    "plt.plot(fpr_hold, tpr_hold, label='Holdout ROC curve (weighted AUROC = {0:0.2f})'.format(holdout_error))\n",
    "plt.xlim([0.0, 1.0])\n",
    "plt.ylim([0.0, 1.05])\n",
    "plt.xlabel('False Positive Rate')\n",
    "plt.ylabel('True Positive Rate')\n",
    "plt.title('Predicting TP53 Mutation in PanCancer Data')\n",
    "plt.legend(loc='lower right')"
   ]
  },
  {
   "cell_type": "markdown",
   "metadata": {},
   "source": [
    "It looks like the holdout set actually performed BETTER by chance"
   ]
  },
  {
   "cell_type": "markdown",
   "metadata": {},
   "source": [
    "# What is the classifier?"
   ]
  },
  {
   "cell_type": "code",
   "execution_count": 267,
   "metadata": {
    "collapsed": false
   },
   "outputs": [],
   "source": [
    "classifier = pd.DataFrame(clf.coef_.T, index=X_matrix.columns, columns=['weight'])\n",
    "classifier['abs'] = classifier['weight'].abs()\n",
    "classifier = classifier.sort_values('abs', ascending=False)"
   ]
  },
  {
   "cell_type": "code",
   "execution_count": 268,
   "metadata": {
    "collapsed": false
   },
   "outputs": [
    {
     "data": {
      "text/html": [
       "<div>\n",
       "<table border=\"1\" class=\"dataframe\">\n",
       "  <thead>\n",
       "    <tr style=\"text-align: right;\">\n",
       "      <th></th>\n",
       "      <th>weight</th>\n",
       "      <th>abs</th>\n",
       "    </tr>\n",
       "  </thead>\n",
       "  <tbody>\n",
       "    <tr>\n",
       "      <th>EDA2R</th>\n",
       "      <td>-1.599357</td>\n",
       "      <td>1.599357</td>\n",
       "    </tr>\n",
       "    <tr>\n",
       "      <th>SPATA18</th>\n",
       "      <td>-1.160264</td>\n",
       "      <td>1.160264</td>\n",
       "    </tr>\n",
       "    <tr>\n",
       "      <th>C6orf138</th>\n",
       "      <td>-1.120526</td>\n",
       "      <td>1.120526</td>\n",
       "    </tr>\n",
       "    <tr>\n",
       "      <th>GDF15</th>\n",
       "      <td>-0.687113</td>\n",
       "      <td>0.687113</td>\n",
       "    </tr>\n",
       "    <tr>\n",
       "      <th>CDKN2A</th>\n",
       "      <td>0.647423</td>\n",
       "      <td>0.647423</td>\n",
       "    </tr>\n",
       "    <tr>\n",
       "      <th>TNFRSF10C</th>\n",
       "      <td>-0.612451</td>\n",
       "      <td>0.612451</td>\n",
       "    </tr>\n",
       "    <tr>\n",
       "      <th>HSPA4L</th>\n",
       "      <td>-0.423845</td>\n",
       "      <td>0.423845</td>\n",
       "    </tr>\n",
       "    <tr>\n",
       "      <th>PANX2</th>\n",
       "      <td>0.414740</td>\n",
       "      <td>0.414740</td>\n",
       "    </tr>\n",
       "    <tr>\n",
       "      <th>GPR172B</th>\n",
       "      <td>-0.401407</td>\n",
       "      <td>0.401407</td>\n",
       "    </tr>\n",
       "    <tr>\n",
       "      <th>HES2</th>\n",
       "      <td>-0.400926</td>\n",
       "      <td>0.400926</td>\n",
       "    </tr>\n",
       "  </tbody>\n",
       "</table>\n",
       "</div>"
      ],
      "text/plain": [
       "             weight       abs\n",
       "EDA2R     -1.599357  1.599357\n",
       "SPATA18   -1.160264  1.160264\n",
       "C6orf138  -1.120526  1.120526\n",
       "GDF15     -0.687113  0.687113\n",
       "CDKN2A     0.647423  0.647423\n",
       "TNFRSF10C -0.612451  0.612451\n",
       "HSPA4L    -0.423845  0.423845\n",
       "PANX2      0.414740  0.414740\n",
       "GPR172B   -0.401407  0.401407\n",
       "HES2      -0.400926  0.400926"
      ]
     },
     "execution_count": 268,
     "metadata": {},
     "output_type": "execute_result"
    }
   ],
   "source": [
    "classifier.head(10)"
   ]
  },
  {
   "cell_type": "markdown",
   "metadata": {},
   "source": [
    "The results are not surprising. TP53 is a transcription modulator and when it mutated in a tumor, the cell goes haywire. Also, the genes that the classifier uses is interesting, but not necessarily novel.\n",
    "\n",
    "1. TP53 is a [transcription factor](https://en.wikipedia.org/wiki/Transcription_factor \"TF wiki\") that regulates many genes including EDA2R. Studies have linked EDA2R (or XEDAR) to [increased survival in colon cancer patients](http://www.ncbi.nlm.nih.gov/pubmed/19543321) and [losing hair as a result of chemotherapy](http://onlinelibrary.wiley.com/doi/10.1016/j.febslet.2010.04.058/full)\n",
    "2. SPATA18 is a gene associated with spermatogenesis and is a transcription factor for TP53. It's association with TP53 was [recently discovered](http://www.ncbi.nlm.nih.gov/pubmed/21300779) in 2011.\n",
    "3. C6orf138 (or [PTCHD4](http://www.genecards.org/cgi-bin/carddisp.pl?gene=PTCHD4)) is also a transcriptional target for TP53 and was only recently discovered in [2014 to repress hedgehog signalling](http://www.ncbi.nlm.nih.gov/pmc/articles/PMC4239647/).\n",
    "4. The list goes on and includes several other TP53 targets..."
   ]
  }
 ],
 "metadata": {
  "kernelspec": {
   "display_name": "Python 3",
   "language": "python",
   "name": "python3"
  },
  "language_info": {
   "codemirror_mode": {
    "name": "ipython",
    "version": 3
   },
   "file_extension": ".py",
   "mimetype": "text/x-python",
   "name": "python",
   "nbconvert_exporter": "python",
   "pygments_lexer": "ipython3",
   "version": "3.5.1"
  }
 },
 "nbformat": 4,
 "nbformat_minor": 0
}
